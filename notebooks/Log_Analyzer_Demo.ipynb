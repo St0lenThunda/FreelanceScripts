{
 "cells": [
  {
   "cell_type": "markdown",
   "id": "e816cb41",
   "metadata": {},
   "source": [
    "# 🔍 Log Analyzer + Alert Generator\n",
    "\n",
    "A simple Python-based log analyzer that summarizes event types and raises alerts when thresholds are crossed. Useful for demonstrating debugging, performance monitoring, and modular design."
   ]
  },
  {
   "cell_type": "code",
   "execution_count": null,
   "id": "3a90a9f2",
   "metadata": {},
   "outputs": [],
   "source": [
    "import pandas as pd\n",
    "import numpy as np\n",
    "import logging\n",
    "from datetime import datetime\n",
    "import matplotlib.pyplot as plt\n",
    "\n",
    "logging.basicConfig(level=logging.INFO)\n"
   ]
  },
  {
   "cell_type": "markdown",
   "id": "ba50fb6d",
   "metadata": {},
   "source": [
    "## 📁 Load Sample Logs"
   ]
  },
  {
   "cell_type": "code",
   "execution_count": null,
   "id": "d500b748",
   "metadata": {},
   "outputs": [],
   "source": [
    "sample_data = [\n",
    "    {\"timestamp\": \"2025-07-20 12:01\", \"event\": \"login_success\", \"user\": \"alice\"},\n",
    "    {\"timestamp\": \"2025-07-20 12:02\", \"event\": \"login_failure\", \"user\": \"bob\"},\n",
    "    {\"timestamp\": \"2025-07-20 12:03\", \"event\": \"error_500\", \"user\": \"system\"},\n",
    "    {\"timestamp\": \"2025-07-20 12:04\", \"event\": \"login_failure\", \"user\": \"bob\"},\n",
    "    {\"timestamp\": \"2025-07-20 12:05\", \"event\": \"login_success\", \"user\": \"charlie\"},\n",
    "]\n",
    "\n",
    "df = pd.DataFrame(sample_data)\n",
    "df['timestamp'] = pd.to_datetime(df['timestamp'])\n",
    "df.head()\n"
   ]
  },
  {
   "cell_type": "markdown",
   "id": "fed0f250",
   "metadata": {},
   "source": [
    "## 📊 Visualize Event Distribution"
   ]
  },
  {
   "cell_type": "code",
   "execution_count": null,
   "id": "2b45c768",
   "metadata": {},
   "outputs": [],
   "source": [
    "event_counts = df['event'].value_counts()\n",
    "event_counts.plot(kind='bar', title='Event Distribution', figsize=(8, 4))\n",
    "plt.xlabel('Event Type')\n",
    "plt.ylabel('Count')\n",
    "plt.grid(True)\n",
    "plt.tight_layout()\n",
    "plt.show()\n"
   ]
  },
  {
   "cell_type": "markdown",
   "id": "7dfd1896",
   "metadata": {},
   "source": [
    "## 🚨 Detect Basic Anomalies"
   ]
  },
  {
   "cell_type": "code",
   "execution_count": null,
   "id": "10fe6227",
   "metadata": {},
   "outputs": [],
   "source": [
    "def detect_anomalies(df, event=\"login_failure\", threshold=2):\n",
    "    failures = df[df[\"event\"] == event]\n",
    "    if len(failures) >= threshold:\n",
    "        logging.warning(f\"High volume of {event}: {len(failures)} events\")\n",
    "        return True\n",
    "    return False\n",
    "\n",
    "anomaly = detect_anomalies(df)\n",
    "print(\"Anomaly Detected:\", anomaly)\n"
   ]
  },
  {
   "cell_type": "markdown",
   "id": "4bf5abea",
   "metadata": {},
   "source": [
    "## 📦 Modularize Log Analysis"
   ]
  },
  {
   "cell_type": "code",
   "execution_count": null,
   "id": "3c0b8f88",
   "metadata": {},
   "outputs": [],
   "source": [
    "def analyze_log(dataframe, alert_thresholds=None):\n",
    "    alert_thresholds = alert_thresholds or {\"login_failure\": 3, \"error_500\": 1}\n",
    "    summary = dataframe['event'].value_counts().to_dict()\n",
    "    alerts_triggered = {}\n",
    "    \n",
    "    for event, threshold in alert_thresholds.items():\n",
    "        count = summary.get(event, 0)\n",
    "        if count >= threshold:\n",
    "            alerts_triggered[event] = count\n",
    "            logging.warning(f\"[ALERT] {event.upper()} occurred {count} times!\")\n",
    "\n",
    "    return summary, alerts_triggered\n",
    "\n",
    "summary, alerts = analyze_log(df)\n",
    "summary, alerts\n"
   ]
  }
 ],
 "metadata": {},
 "nbformat": 4,
 "nbformat_minor": 5
}
